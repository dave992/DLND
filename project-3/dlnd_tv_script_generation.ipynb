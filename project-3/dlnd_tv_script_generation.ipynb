{
 "cells": [
  {
   "cell_type": "markdown",
   "metadata": {},
   "source": [
    "# TV Script Generation\n",
    "In this project, you'll generate your own [Simpsons](https://en.wikipedia.org/wiki/The_Simpsons) TV scripts using RNNs.  You'll be using part of the [Simpsons dataset](https://www.kaggle.com/wcukierski/the-simpsons-by-the-data) of scripts from 27 seasons.  The Neural Network you'll build will generate a new TV script for a scene at [Moe's Tavern](https://simpsonswiki.com/wiki/Moe's_Tavern).\n",
    "## Get the Data\n",
    "The data is already provided for you.  You'll be using a subset of the original dataset.  It consists of only the scenes in Moe's Tavern.  This doesn't include other versions of the tavern, like \"Moe's Cavern\", \"Flaming Moe's\", \"Uncle Moe's Family Feed-Bag\", etc.."
   ]
  },
  {
   "cell_type": "code",
   "execution_count": 1,
   "metadata": {},
   "outputs": [],
   "source": [
    "\"\"\"\n",
    "DON'T MODIFY ANYTHING IN THIS CELL\n",
    "\"\"\"\n",
    "import helper\n",
    "\n",
    "data_dir = './data/simpsons/moes_tavern_lines.txt'\n",
    "text = helper.load_data(data_dir)\n",
    "# Ignore notice, since we don't use it for analysing the data\n",
    "text = text[81:]"
   ]
  },
  {
   "cell_type": "markdown",
   "metadata": {},
   "source": [
    "## Explore the Data\n",
    "Play around with `view_sentence_range` to view different parts of the data."
   ]
  },
  {
   "cell_type": "code",
   "execution_count": 2,
   "metadata": {},
   "outputs": [
    {
     "name": "stdout",
     "output_type": "stream",
     "text": [
      "Dataset Stats\n",
      "Roughly the number of unique words: 11492\n",
      "Number of scenes: 262\n",
      "Average number of sentences in each scene: 15.251908396946565\n",
      "Number of lines: 4258\n",
      "Average number of words in each line: 11.50164396430249\n",
      "\n",
      "The sentences 100 to 110:\n",
      "Moe_Szyslak: A sneeze guard.\n",
      "Barney_Gumble: Wow, it really works.\n",
      "HARV: (CHUCKLING) I'll be back.\n",
      "Homer_Simpson: Moe, I haven't seen the place this crowded since the government cracked down on you for accepting food stamps. Do you think my drink had something to do with it?\n",
      "Moe_Szyslak: Who can say? It's probably a combination of things.\n",
      "Patron_#1: (TO MOE) Another pitcher of those amazing \"Flaming Moe's\".\n",
      "Patron_#2: Boy, I hate this joint, but I love that drink.\n",
      "Collette: Barkeep, I couldn't help noticing your sign.\n",
      "Moe_Szyslak: The one that says, \"Bartenders Do It 'Til You Barf\"?\n",
      "Collette: No, above that store-bought drollery.\n"
     ]
    }
   ],
   "source": [
    "view_sentence_range = (100, 110)\n",
    "\n",
    "\"\"\"\n",
    "DON'T MODIFY ANYTHING IN THIS CELL\n",
    "\"\"\"\n",
    "import numpy as np\n",
    "\n",
    "print('Dataset Stats')\n",
    "print('Roughly the number of unique words: {}'.format(len({word: None for word in text.split()})))\n",
    "scenes = text.split('\\n\\n')\n",
    "print('Number of scenes: {}'.format(len(scenes)))\n",
    "sentence_count_scene = [scene.count('\\n') for scene in scenes]\n",
    "print('Average number of sentences in each scene: {}'.format(np.average(sentence_count_scene)))\n",
    "\n",
    "sentences = [sentence for scene in scenes for sentence in scene.split('\\n')]\n",
    "print('Number of lines: {}'.format(len(sentences)))\n",
    "word_count_sentence = [len(sentence.split()) for sentence in sentences]\n",
    "print('Average number of words in each line: {}'.format(np.average(word_count_sentence)))\n",
    "\n",
    "print()\n",
    "print('The sentences {} to {}:'.format(*view_sentence_range))\n",
    "print('\\n'.join(text.split('\\n')[view_sentence_range[0]:view_sentence_range[1]]))"
   ]
  },
  {
   "cell_type": "markdown",
   "metadata": {},
   "source": [
    "## Implement Preprocessing Functions\n",
    "The first thing to do to any dataset is preprocessing.  Implement the following preprocessing functions below:\n",
    "- Lookup Table\n",
    "- Tokenize Punctuation\n",
    "\n",
    "### Lookup Table\n",
    "To create a word embedding, you first need to transform the words to ids.  In this function, create two dictionaries:\n",
    "- Dictionary to go from the words to an id, we'll call `vocab_to_int`\n",
    "- Dictionary to go from the id to word, we'll call `int_to_vocab`\n",
    "\n",
    "Return these dictionaries in the following tuple `(vocab_to_int, int_to_vocab)`"
   ]
  },
  {
   "cell_type": "code",
   "execution_count": 3,
   "metadata": {},
   "outputs": [
    {
     "name": "stdout",
     "output_type": "stream",
     "text": [
      "Tests Passed\n"
     ]
    }
   ],
   "source": [
    "import numpy as np\n",
    "import problem_unittests as tests\n",
    "\n",
    "def create_lookup_tables(text):\n",
    "    \"\"\"\n",
    "    Create lookup tables for vocabulary\n",
    "    :param text: The text of tv scripts split into words\n",
    "    :return: A tuple of dicts (vocab_to_int, int_to_vocab)\n",
    "    \"\"\"\n",
    "    \n",
    "    # Convert the text to a list of unique words using the set fucntion\n",
    "    words = list(set(text))\n",
    "    \n",
    "    # Create dictionaries, starting at 1\n",
    "    int_to_vocab = {i: word for i, word in enumerate(words)}\n",
    "    vocab_to_int = {word: i for i, word in int_to_vocab.items()}\n",
    "    \n",
    "    return vocab_to_int, int_to_vocab\n",
    "\n",
    "\n",
    "\"\"\"\n",
    "DON'T MODIFY ANYTHING IN THIS CELL THAT IS BELOW THIS LINE\n",
    "\"\"\"\n",
    "tests.test_create_lookup_tables(create_lookup_tables)"
   ]
  },
  {
   "cell_type": "markdown",
   "metadata": {},
   "source": [
    "### Tokenize Punctuation\n",
    "We'll be splitting the script into a word array using spaces as delimiters.  However, punctuations like periods and exclamation marks make it hard for the neural network to distinguish between the word \"bye\" and \"bye!\".\n",
    "\n",
    "Implement the function `token_lookup` to return a dict that will be used to tokenize symbols like \"!\" into \"||Exclamation_Mark||\".  Create a dictionary for the following symbols where the symbol is the key and value is the token:\n",
    "- Period ( . )\n",
    "- Comma ( , )\n",
    "- Quotation Mark ( \" )\n",
    "- Semicolon ( ; )\n",
    "- Exclamation mark ( ! )\n",
    "- Question mark ( ? )\n",
    "- Left Parentheses ( ( )\n",
    "- Right Parentheses ( ) )\n",
    "- Dash ( -- )\n",
    "- Return ( \\n )\n",
    "\n",
    "This dictionary will be used to token the symbols and add the delimiter (space) around it.  This separates the symbols as it's own word, making it easier for the neural network to predict on the next word. Make sure you don't use a token that could be confused as a word. Instead of using the token \"dash\", try using something like \"||dash||\"."
   ]
  },
  {
   "cell_type": "code",
   "execution_count": 4,
   "metadata": {},
   "outputs": [
    {
     "name": "stdout",
     "output_type": "stream",
     "text": [
      "Tests Passed\n"
     ]
    }
   ],
   "source": [
    "def token_lookup():\n",
    "    \"\"\"\n",
    "    Generate a dict to turn punctuation into a token.\n",
    "    :return: Tokenize dictionary where the key is the punctuation and the value is the token\n",
    "    \"\"\"\n",
    "    \n",
    "    token_dict = {\n",
    "        '.': '<_PERIOD_>',\n",
    "        ',': '<_COMMA_>',\n",
    "        '\"': '<_QUOTATION_>',\n",
    "        ';': '<_SEMICOLON_>',\n",
    "        '!': '<_EXCLAMATION_>',\n",
    "        '?': '<_QUESTION_>',\n",
    "        '(': '<_L_PARENTHESES_>',\n",
    "        ')': '<_R_PARENTHESES_>',\n",
    "        '--': '<_DASH_>',\n",
    "        '\\n': '<_RETURN_>'}\n",
    "    \n",
    "    return token_dict\n",
    "\n",
    "\"\"\"\n",
    "DON'T MODIFY ANYTHING IN THIS CELL THAT IS BELOW THIS LINE\n",
    "\"\"\"\n",
    "tests.test_tokenize(token_lookup)"
   ]
  },
  {
   "cell_type": "markdown",
   "metadata": {},
   "source": [
    "## Preprocess all the data and save it\n",
    "Running the code cell below will preprocess all the data and save it to file."
   ]
  },
  {
   "cell_type": "code",
   "execution_count": 5,
   "metadata": {},
   "outputs": [],
   "source": [
    "\"\"\"\n",
    "DON'T MODIFY ANYTHING IN THIS CELL\n",
    "\"\"\"\n",
    "# Preprocess Training, Validation, and Testing Data\n",
    "helper.preprocess_and_save_data(data_dir, token_lookup, create_lookup_tables)"
   ]
  },
  {
   "cell_type": "markdown",
   "metadata": {},
   "source": [
    "# Check Point\n",
    "This is your first checkpoint. If you ever decide to come back to this notebook or have to restart the notebook, you can start from here. The preprocessed data has been saved to disk."
   ]
  },
  {
   "cell_type": "code",
   "execution_count": 6,
   "metadata": {},
   "outputs": [],
   "source": [
    "\"\"\"\n",
    "DON'T MODIFY ANYTHING IN THIS CELL\n",
    "\"\"\"\n",
    "import helper\n",
    "import numpy as np\n",
    "import problem_unittests as tests\n",
    "\n",
    "int_text, vocab_to_int, int_to_vocab, token_dict = helper.load_preprocess()"
   ]
  },
  {
   "cell_type": "markdown",
   "metadata": {},
   "source": [
    "## Build the Neural Network\n",
    "You'll build the components necessary to build a RNN by implementing the following functions below:\n",
    "- get_inputs\n",
    "- get_init_cell\n",
    "- get_embed\n",
    "- build_rnn\n",
    "- build_nn\n",
    "- get_batches\n",
    "\n",
    "### Check the Version of TensorFlow and Access to GPU"
   ]
  },
  {
   "cell_type": "code",
   "execution_count": 7,
   "metadata": {},
   "outputs": [
    {
     "name": "stdout",
     "output_type": "stream",
     "text": [
      "TensorFlow Version: 1.5.0\n",
      "Default GPU Device: /device:GPU:0\n"
     ]
    }
   ],
   "source": [
    "\"\"\"\n",
    "DON'T MODIFY ANYTHING IN THIS CELL\n",
    "\"\"\"\n",
    "from distutils.version import LooseVersion\n",
    "import warnings\n",
    "import tensorflow as tf\n",
    "\n",
    "# Check TensorFlow Version\n",
    "assert LooseVersion(tf.__version__) >= LooseVersion('1.0'), 'Please use TensorFlow version 1.0 or newer'\n",
    "print('TensorFlow Version: {}'.format(tf.__version__))\n",
    "\n",
    "# Check for a GPU\n",
    "if not tf.test.gpu_device_name():\n",
    "    warnings.warn('No GPU found. Please use a GPU to train your neural network.')\n",
    "else:\n",
    "    print('Default GPU Device: {}'.format(tf.test.gpu_device_name()))"
   ]
  },
  {
   "cell_type": "markdown",
   "metadata": {},
   "source": [
    "### Input\n",
    "Implement the `get_inputs()` function to create TF Placeholders for the Neural Network.  It should create the following placeholders:\n",
    "- Input text placeholder named \"input\" using the [TF Placeholder](https://www.tensorflow.org/api_docs/python/tf/placeholder) `name` parameter.\n",
    "- Targets placeholder\n",
    "- Learning Rate placeholder\n",
    "\n",
    "Return the placeholders in the following tuple `(Input, Targets, LearningRate)`"
   ]
  },
  {
   "cell_type": "code",
   "execution_count": 8,
   "metadata": {},
   "outputs": [
    {
     "name": "stdout",
     "output_type": "stream",
     "text": [
      "Tests Passed\n"
     ]
    }
   ],
   "source": [
    "def get_inputs():\n",
    "    \"\"\"\n",
    "    Create TF Placeholders for input, targets, and learning rate.\n",
    "    :return: Tuple (input, targets, learning rate)\n",
    "    \"\"\"\n",
    "    \n",
    "    input_data = tf.placeholder(tf.int32, [None, None] , name = 'input')\n",
    "    targets = tf.placeholder(tf.int32, [None, None])\n",
    "    lr = tf.placeholder(tf.float32, [])\n",
    "\n",
    "    return input_data, targets, lr\n",
    "\n",
    "\"\"\"\n",
    "DON'T MODIFY ANYTHING IN THIS CELL THAT IS BELOW THIS LINE\n",
    "\"\"\"\n",
    "tests.test_get_inputs(get_inputs)"
   ]
  },
  {
   "cell_type": "markdown",
   "metadata": {},
   "source": [
    "### Build RNN Cell and Initialize\n",
    "Stack one or more [`BasicLSTMCells`](https://www.tensorflow.org/api_docs/python/tf/contrib/rnn/BasicLSTMCell) in a [`MultiRNNCell`](https://www.tensorflow.org/api_docs/python/tf/contrib/rnn/MultiRNNCell).\n",
    "- The Rnn size should be set using `rnn_size`\n",
    "- Initalize Cell State using the MultiRNNCell's [`zero_state()`](https://www.tensorflow.org/api_docs/python/tf/contrib/rnn/MultiRNNCell#zero_state) function\n",
    "    - Apply the name \"initial_state\" to the initial state using [`tf.identity()`](https://www.tensorflow.org/api_docs/python/tf/identity)\n",
    "\n",
    "Return the cell and initial state in the following tuple `(Cell, InitialState)`"
   ]
  },
  {
   "cell_type": "code",
   "execution_count": 9,
   "metadata": {},
   "outputs": [
    {
     "name": "stdout",
     "output_type": "stream",
     "text": [
      "Tests Passed\n"
     ]
    }
   ],
   "source": [
    "def get_init_cell(batch_size, rnn_size, number_of_layers = 2):\n",
    "    \"\"\"\n",
    "    Create an RNN Cell and initialize it.\n",
    "    :param batch_size: Size of batches\n",
    "    :param rnn_size: Size of RNNs\n",
    "    :return: Tuple (cell, initialize state)\n",
    "    \"\"\"\n",
    "    \n",
    "    # Create function to make new cells\n",
    "    def lstm_cell():\n",
    "        return tf.nn.rnn_cell.LSTMCell(rnn_size)\n",
    "    \n",
    "    # Stack the cells using the added number of layers argument\n",
    "    stacked_cell = tf.contrib.rnn.MultiRNNCell([lstm_cell() for _ in range(number_of_layers)])\n",
    "    \n",
    "    # Initialize the cell and set name of the state\n",
    "    init_state = stacked_cell.zero_state(batch_size, tf.float32)\n",
    "    init_state = tf.identity(init_state, name = 'initial_state')\n",
    "    \n",
    "    return stacked_cell, init_state\n",
    "\n",
    "\n",
    "\"\"\"\n",
    "DON'T MODIFY ANYTHING IN THIS CELL THAT IS BELOW THIS LINE\n",
    "\"\"\"\n",
    "tests.test_get_init_cell(get_init_cell)"
   ]
  },
  {
   "cell_type": "markdown",
   "metadata": {},
   "source": [
    "### Word Embedding\n",
    "Apply embedding to `input_data` using TensorFlow.  Return the embedded sequence."
   ]
  },
  {
   "cell_type": "code",
   "execution_count": 10,
   "metadata": {},
   "outputs": [
    {
     "name": "stdout",
     "output_type": "stream",
     "text": [
      "Tests Passed\n"
     ]
    }
   ],
   "source": [
    "def get_embed(input_data, vocab_size, embed_dim):\n",
    "    \"\"\"\n",
    "    Create embedding for <input_data>.\n",
    "    :param input_data: TF placeholder for text input.\n",
    "    :param vocab_size: Number of words in vocabulary.\n",
    "    :param embed_dim: Number of embedding dimensions\n",
    "    :return: Embedded input.\n",
    "    \"\"\"\n",
    "    \n",
    "    # Use get_variable to create the embedding layer\n",
    "    embedding = tf.get_variable('embed_layer', [vocab_size, embed_dim], initializer = tf.random_uniform_initializer(-1,1))\n",
    "    \n",
    "    # Embed the input \n",
    "    embed = tf.nn.embedding_lookup(embedding, input_data)\n",
    "    \n",
    "    return embed\n",
    "\n",
    "\n",
    "\"\"\"\n",
    "DON'T MODIFY ANYTHING IN THIS CELL THAT IS BELOW THIS LINE\n",
    "\"\"\"\n",
    "tests.test_get_embed(get_embed)"
   ]
  },
  {
   "cell_type": "markdown",
   "metadata": {},
   "source": [
    "### Build RNN\n",
    "You created a RNN Cell in the `get_init_cell()` function.  Time to use the cell to create a RNN.\n",
    "- Build the RNN using the [`tf.nn.dynamic_rnn()`](https://www.tensorflow.org/api_docs/python/tf/nn/dynamic_rnn)\n",
    " - Apply the name \"final_state\" to the final state using [`tf.identity()`](https://www.tensorflow.org/api_docs/python/tf/identity)\n",
    "\n",
    "Return the outputs and final_state state in the following tuple `(Outputs, FinalState)` "
   ]
  },
  {
   "cell_type": "code",
   "execution_count": 11,
   "metadata": {},
   "outputs": [
    {
     "name": "stdout",
     "output_type": "stream",
     "text": [
      "Tests Passed\n"
     ]
    }
   ],
   "source": [
    "def build_rnn(cell, inputs, init_state = None):\n",
    "    \"\"\"\n",
    "    Create a RNN using a RNN Cell\n",
    "    :param cell: RNN Cell\n",
    "    :param inputs: Input text data\n",
    "    :return: Tuple (Outputs, Final State)\n",
    "    \"\"\"\n",
    "    \n",
    "    # Build RNN dynamicly\n",
    "    if init_state is not None:\n",
    "        outputs, final_state = tf.nn.dynamic_rnn(cell, inputs, initial_state = init_state)\n",
    "    else:\n",
    "        outputs, final_state = tf.nn.dynamic_rnn(cell, inputs, dtype = tf.float32)\n",
    "    \n",
    "    # Name final state\n",
    "    final_state = tf.identity(final_state, name = 'final_state')\n",
    "\n",
    "    return outputs, final_state\n",
    "\n",
    "\"\"\"\n",
    "DON'T MODIFY ANYTHING IN THIS CELL THAT IS BELOW THIS LINE\n",
    "\"\"\"\n",
    "tests.test_build_rnn(build_rnn)"
   ]
  },
  {
   "cell_type": "markdown",
   "metadata": {},
   "source": [
    ">###### NOTE TO REVIEWER: ######\n",
    "\n",
    ">As the test code for this project is severly outdated, I adjusted the unit-test file. \n",
    ">The updated function is: test_build_nn(build_nn)  \n",
    ">(functio starts at line 245, changes starting at line 266)\n",
    ">\n",
    ">Changelog:  \n",
    ">`problem_unittests.py` now supports Tensorflow >= v1.4.0 \n",
    ">###### OLD CODE ######\n",
    ">```python\n",
    ">assert final_state.get_shape().as_list() == [test_rnn_layer_size, 2, None, test_rnn_size], \\\n",
    ">    'Final state wrong shape.  Found shape {}'.format(final_state.get_shape())\n",
    ">```  \n",
    ">###### NEW CODE ######\n",
    ">```python\n",
    "># Added TensorFlow version check\n",
    ">if LooseVersion(tf.__version__) >= LooseVersion('1.4'):\n",
    ">    assert final_state.get_shape().as_list() == \\\n",
    ">        [test_rnn_layer_size, 2, test_input_data_shape[0], test_rnn_size], \\\n",
    ">        'Final state wrong shape.  Found shape {}'.format(final_state.get_shape())\n",
    ">else:\n",
    ">    assert final_state.get_shape().as_list() == [test_rnn_layer_size, 2, None, test_rnn_size], \\\n",
    ">        'Final state wrong shape.  Found shape {}'.format(final_state.get_shape())\n",
    ">```"
   ]
  },
  {
   "cell_type": "markdown",
   "metadata": {},
   "source": [
    "### Build the Neural Network\n",
    "Apply the functions you implemented above to:\n",
    "- Apply embedding to `input_data` using your `get_embed(input_data, vocab_size, embed_dim)` function.\n",
    "- Build RNN using `cell` and your `build_rnn(cell, inputs)` function.\n",
    "- Apply a fully connected layer with a linear activation and `vocab_size` as the number of outputs.\n",
    "\n",
    "Return the logits and final state in the following tuple (Logits, FinalState) "
   ]
  },
  {
   "cell_type": "code",
   "execution_count": 12,
   "metadata": {},
   "outputs": [
    {
     "name": "stdout",
     "output_type": "stream",
     "text": [
      "Tests Passed\n"
     ]
    }
   ],
   "source": [
    "def build_nn(cell, rnn_size, input_data, vocab_size, embed_dim):\n",
    "    \"\"\"\n",
    "    Build part of the neural network\n",
    "    :param cell: RNN cell\n",
    "    :param rnn_size: Size of rnns\n",
    "    :param input_data: Input data\n",
    "    :param vocab_size: Vocabulary size\n",
    "    :param embed_dim: Number of embedding dimensions\n",
    "    :return: Tuple (Logits, FinalState)\n",
    "    \"\"\"\n",
    "    # Apply embedding\n",
    "    embed = get_embed(input_data, vocab_size, embed_dim)\n",
    "    \n",
    "    # Build RNN\n",
    "    rnn_output, final_state = build_rnn(cell, embed)\n",
    "    \n",
    "    # Apply fully connected layer\n",
    "    logits = tf.layers.dense(rnn_output, vocab_size)\n",
    "    \n",
    "    return logits, final_state\n",
    "\n",
    "\"\"\"\n",
    "DON'T MODIFY ANYTHING IN THIS CELL THAT IS BELOW THIS LINE\n",
    "\"\"\"\n",
    "tests.test_build_nn(build_nn)"
   ]
  },
  {
   "cell_type": "markdown",
   "metadata": {},
   "source": [
    "### Batches\n",
    "Implement `get_batches` to create batches of input and targets using `int_text`.  The batches should be a Numpy array with the shape `(number of batches, 2, batch size, sequence length)`. Each batch contains two elements:\n",
    "- The first element is a single batch of **input** with the shape `[batch size, sequence length]`\n",
    "- The second element is a single batch of **targets** with the shape `[batch size, sequence length]`\n",
    "\n",
    "If you can't fill the last batch with enough data, drop the last batch.\n",
    "\n",
    "For exmple, `get_batches([1, 2, 3, 4, 5, 6, 7, 8, 9, 10, 11, 12, 13, 14, 15, 16, 17, 18, 19, 20], 3, 2)` would return a Numpy array of the following:\n",
    "```\n",
    "[\n",
    "  # First Batch\n",
    "  [\n",
    "    # Batch of Input\n",
    "    [[ 1  2], [ 7  8], [13 14]]\n",
    "    # Batch of targets\n",
    "    [[ 2  3], [ 8  9], [14 15]]\n",
    "  ]\n",
    "\n",
    "  # Second Batch\n",
    "  [\n",
    "    # Batch of Input\n",
    "    [[ 3  4], [ 9 10], [15 16]]\n",
    "    # Batch of targets\n",
    "    [[ 4  5], [10 11], [16 17]]\n",
    "  ]\n",
    "\n",
    "  # Third Batch\n",
    "  [\n",
    "    # Batch of Input\n",
    "    [[ 5  6], [11 12], [17 18]]\n",
    "    # Batch of targets\n",
    "    [[ 6  7], [12 13], [18  1]]\n",
    "  ]\n",
    "]\n",
    "```\n",
    "\n",
    "Notice that the last target value in the last batch is the first input value of the first batch. In this case, `1`. This is a common technique used when creating sequence batches, although it is rather unintuitive."
   ]
  },
  {
   "cell_type": "code",
   "execution_count": 13,
   "metadata": {
    "scrolled": true
   },
   "outputs": [
    {
     "name": "stdout",
     "output_type": "stream",
     "text": [
      "Tests Passed\n"
     ]
    }
   ],
   "source": [
    "def get_batches(int_text, batch_size, seq_length):\n",
    "    \"\"\"\n",
    "    Return batches of input and target\n",
    "    :param int_text: Text with the words replaced by their ids\n",
    "    :param batch_size: The size of batch\n",
    "    :param seq_length: The length of sequence\n",
    "    :return: Batches as a Numpy array\n",
    "    \"\"\"\n",
    "    # Ensure we only take full batches\n",
    "    n_batches = len(int_text)//(batch_size*seq_length)\n",
    "\n",
    "    # Truncate input text to match batch size and use to make numpy array\n",
    "    int_text = int_text[:n_batches*batch_size*seq_length]\n",
    "    np_text = np.array(int_text)\n",
    "    \n",
    "    # Pre-allocate and reshape \n",
    "    batches = np.zeros([n_batches, 2, batch_size, seq_length])\n",
    "    text_input = np.reshape(np_text, [batch_size, -1])\n",
    "    text_target = np.reshape(np.roll(np_text, -1), [batch_size, -1])\n",
    "    \n",
    "    # Fill batches by cutting the text matrixes\n",
    "    for i in range(n_batches):\n",
    "        batches[i,0,:,:] = text_input[:,i*seq_length:(i + 1)*seq_length]\n",
    "        batches[i,1,:,:] = text_target[:,i*seq_length:(i + 1)*seq_length]\n",
    "    \n",
    "    return batches\n",
    "\n",
    "\n",
    "\"\"\"\n",
    "DON'T MODIFY ANYTHING IN THIS CELL THAT IS BELOW THIS LINE\n",
    "\"\"\"\n",
    "tests.test_get_batches(get_batches)"
   ]
  },
  {
   "cell_type": "markdown",
   "metadata": {},
   "source": [
    "## Neural Network Training\n",
    "### Hyperparameters\n",
    "Tune the following parameters:\n",
    "\n",
    "- Set `num_epochs` to the number of epochs.\n",
    "- Set `batch_size` to the batch size.\n",
    "- Set `rnn_size` to the size of the RNNs.\n",
    "- Set `embed_dim` to the size of the embedding.\n",
    "- Set `seq_length` to the length of sequence.\n",
    "- Set `learning_rate` to the learning rate.\n",
    "- Set `show_every_n_batches` to the number of batches the neural network should print progress."
   ]
  },
  {
   "cell_type": "code",
   "execution_count": 14,
   "metadata": {},
   "outputs": [],
   "source": [
    "# Number of Epochs\n",
    "num_epochs = 300\n",
    "# Batch Size\n",
    "batch_size = 128\n",
    "# RNN Size\n",
    "rnn_size = 512\n",
    "# Embedding Dimension Size\n",
    "embed_dim = 300\n",
    "# Sequence Length\n",
    "seq_length = 30\n",
    "# Learning Rate\n",
    "learning_rate = 0.002\n",
    "# Show stats for every n number of batches\n",
    "show_every_n_batches = 34\n",
    "\n",
    "\"\"\"\n",
    "DON'T MODIFY ANYTHING IN THIS CELL THAT IS BELOW THIS LINE\n",
    "\"\"\"\n",
    "save_dir = './save'"
   ]
  },
  {
   "cell_type": "markdown",
   "metadata": {},
   "source": [
    "### Build the Graph\n",
    "Build the graph using the neural network you implemented."
   ]
  },
  {
   "cell_type": "code",
   "execution_count": 15,
   "metadata": {},
   "outputs": [],
   "source": [
    "\"\"\"\n",
    "DON'T MODIFY ANYTHING IN THIS CELL\n",
    "\"\"\"\n",
    "from tensorflow.contrib import seq2seq\n",
    "\n",
    "train_graph = tf.Graph()\n",
    "with train_graph.as_default():\n",
    "    vocab_size = len(int_to_vocab)\n",
    "    input_text, targets, lr = get_inputs()\n",
    "    input_data_shape = tf.shape(input_text)\n",
    "    cell, initial_state = get_init_cell(input_data_shape[0], rnn_size)\n",
    "    logits, final_state = build_nn(cell, rnn_size, input_text, vocab_size, embed_dim)\n",
    "\n",
    "    # Probabilities for generating words\n",
    "    probs = tf.nn.softmax(logits, name='probs')\n",
    "\n",
    "    # Loss function\n",
    "    cost = seq2seq.sequence_loss(\n",
    "        logits,\n",
    "        targets,\n",
    "        tf.ones([input_data_shape[0], input_data_shape[1]]))\n",
    "\n",
    "    # Optimizer\n",
    "    optimizer = tf.train.AdamOptimizer(lr)\n",
    "\n",
    "    # Gradient Clipping\n",
    "    gradients = optimizer.compute_gradients(cost)\n",
    "    capped_gradients = [(tf.clip_by_value(grad, -1., 1.), var) for grad, var in gradients if grad is not None]\n",
    "    train_op = optimizer.apply_gradients(capped_gradients)"
   ]
  },
  {
   "cell_type": "markdown",
   "metadata": {},
   "source": [
    "## Train\n",
    "Train the neural network on the preprocessed data.  If you have a hard time getting a good loss, check the [forums](https://discussions.udacity.com/) to see if anyone is having the same problem."
   ]
  },
  {
   "cell_type": "code",
   "execution_count": 16,
   "metadata": {
    "scrolled": true
   },
   "outputs": [
    {
     "name": "stdout",
     "output_type": "stream",
     "text": [
      "Epoch   0 Batch    0/17   train_loss = 8.823\n",
      "Epoch   2 Batch    0/17   train_loss = 6.142\n",
      "Epoch   4 Batch    0/17   train_loss = 5.961\n",
      "Epoch   6 Batch    0/17   train_loss = 5.755\n",
      "Epoch   8 Batch    0/17   train_loss = 5.629\n",
      "Epoch  10 Batch    0/17   train_loss = 5.469\n",
      "Epoch  12 Batch    0/17   train_loss = 5.286\n",
      "Epoch  14 Batch    0/17   train_loss = 5.124\n",
      "Epoch  16 Batch    0/17   train_loss = 5.010\n",
      "Epoch  18 Batch    0/17   train_loss = 4.878\n",
      "Epoch  20 Batch    0/17   train_loss = 4.736\n",
      "Epoch  22 Batch    0/17   train_loss = 4.579\n",
      "Epoch  24 Batch    0/17   train_loss = 4.414\n",
      "Epoch  26 Batch    0/17   train_loss = 4.224\n",
      "Epoch  28 Batch    0/17   train_loss = 4.040\n",
      "Epoch  30 Batch    0/17   train_loss = 3.892\n",
      "Epoch  32 Batch    0/17   train_loss = 3.688\n",
      "Epoch  34 Batch    0/17   train_loss = 3.501\n",
      "Epoch  36 Batch    0/17   train_loss = 3.339\n",
      "Epoch  38 Batch    0/17   train_loss = 3.126\n",
      "Epoch  40 Batch    0/17   train_loss = 2.941\n",
      "Epoch  42 Batch    0/17   train_loss = 2.883\n",
      "Epoch  44 Batch    0/17   train_loss = 2.692\n",
      "Epoch  46 Batch    0/17   train_loss = 2.465\n",
      "Epoch  48 Batch    0/17   train_loss = 2.307\n",
      "Epoch  50 Batch    0/17   train_loss = 2.179\n",
      "Epoch  52 Batch    0/17   train_loss = 2.010\n",
      "Epoch  54 Batch    0/17   train_loss = 1.895\n",
      "Epoch  56 Batch    0/17   train_loss = 1.849\n",
      "Epoch  58 Batch    0/17   train_loss = 1.686\n",
      "Epoch  60 Batch    0/17   train_loss = 1.669\n",
      "Epoch  62 Batch    0/17   train_loss = 1.463\n",
      "Epoch  64 Batch    0/17   train_loss = 1.328\n",
      "Epoch  66 Batch    0/17   train_loss = 1.194\n",
      "Epoch  68 Batch    0/17   train_loss = 1.110\n",
      "Epoch  70 Batch    0/17   train_loss = 1.064\n",
      "Epoch  72 Batch    0/17   train_loss = 0.953\n",
      "Epoch  74 Batch    0/17   train_loss = 0.828\n",
      "Epoch  76 Batch    0/17   train_loss = 0.761\n",
      "Epoch  78 Batch    0/17   train_loss = 0.738\n",
      "Epoch  80 Batch    0/17   train_loss = 0.662\n",
      "Epoch  82 Batch    0/17   train_loss = 0.669\n",
      "Epoch  84 Batch    0/17   train_loss = 0.571\n",
      "Epoch  86 Batch    0/17   train_loss = 0.493\n",
      "Epoch  88 Batch    0/17   train_loss = 0.488\n",
      "Epoch  90 Batch    0/17   train_loss = 0.447\n",
      "Epoch  92 Batch    0/17   train_loss = 0.450\n",
      "Epoch  94 Batch    0/17   train_loss = 0.399\n",
      "Epoch  96 Batch    0/17   train_loss = 0.335\n",
      "Epoch  98 Batch    0/17   train_loss = 0.286\n",
      "Epoch 100 Batch    0/17   train_loss = 0.240\n",
      "Epoch 102 Batch    0/17   train_loss = 0.221\n",
      "Epoch 104 Batch    0/17   train_loss = 0.197\n",
      "Epoch 106 Batch    0/17   train_loss = 0.201\n",
      "Epoch 108 Batch    0/17   train_loss = 0.190\n",
      "Epoch 110 Batch    0/17   train_loss = 0.179\n",
      "Epoch 112 Batch    0/17   train_loss = 0.172\n",
      "Epoch 114 Batch    0/17   train_loss = 0.156\n",
      "Epoch 116 Batch    0/17   train_loss = 0.170\n",
      "Epoch 118 Batch    0/17   train_loss = 0.168\n",
      "Epoch 120 Batch    0/17   train_loss = 0.181\n",
      "Epoch 122 Batch    0/17   train_loss = 0.197\n",
      "Epoch 124 Batch    0/17   train_loss = 0.222\n",
      "Epoch 126 Batch    0/17   train_loss = 0.171\n",
      "Epoch 128 Batch    0/17   train_loss = 0.124\n",
      "Epoch 130 Batch    0/17   train_loss = 0.108\n",
      "Epoch 132 Batch    0/17   train_loss = 0.102\n",
      "Epoch 134 Batch    0/17   train_loss = 0.099\n",
      "Epoch 136 Batch    0/17   train_loss = 0.098\n",
      "Epoch 138 Batch    0/17   train_loss = 0.096\n",
      "Epoch 140 Batch    0/17   train_loss = 0.095\n",
      "Epoch 142 Batch    0/17   train_loss = 0.094\n",
      "Epoch 144 Batch    0/17   train_loss = 0.093\n",
      "Epoch 146 Batch    0/17   train_loss = 0.092\n",
      "Epoch 148 Batch    0/17   train_loss = 0.092\n",
      "Epoch 150 Batch    0/17   train_loss = 0.091\n",
      "Epoch 152 Batch    0/17   train_loss = 0.090\n",
      "Epoch 154 Batch    0/17   train_loss = 0.090\n",
      "Epoch 156 Batch    0/17   train_loss = 0.089\n",
      "Epoch 158 Batch    0/17   train_loss = 0.089\n",
      "Epoch 160 Batch    0/17   train_loss = 0.088\n",
      "Epoch 162 Batch    0/17   train_loss = 0.088\n",
      "Epoch 164 Batch    0/17   train_loss = 0.087\n",
      "Epoch 166 Batch    0/17   train_loss = 0.087\n",
      "Epoch 168 Batch    0/17   train_loss = 0.087\n",
      "Epoch 170 Batch    0/17   train_loss = 0.086\n",
      "Epoch 172 Batch    0/17   train_loss = 0.086\n",
      "Epoch 174 Batch    0/17   train_loss = 0.086\n",
      "Epoch 176 Batch    0/17   train_loss = 0.086\n",
      "Epoch 178 Batch    0/17   train_loss = 0.085\n",
      "Epoch 180 Batch    0/17   train_loss = 0.085\n",
      "Epoch 182 Batch    0/17   train_loss = 0.085\n",
      "Epoch 184 Batch    0/17   train_loss = 0.085\n",
      "Epoch 186 Batch    0/17   train_loss = 0.084\n",
      "Epoch 188 Batch    0/17   train_loss = 0.084\n",
      "Epoch 190 Batch    0/17   train_loss = 0.084\n",
      "Epoch 192 Batch    0/17   train_loss = 0.084\n",
      "Epoch 194 Batch    0/17   train_loss = 0.084\n",
      "Epoch 196 Batch    0/17   train_loss = 0.084\n",
      "Epoch 198 Batch    0/17   train_loss = 0.083\n",
      "Epoch 200 Batch    0/17   train_loss = 0.083\n",
      "Epoch 202 Batch    0/17   train_loss = 0.083\n",
      "Epoch 204 Batch    0/17   train_loss = 0.083\n",
      "Epoch 206 Batch    0/17   train_loss = 0.083\n",
      "Epoch 208 Batch    0/17   train_loss = 0.083\n",
      "Epoch 210 Batch    0/17   train_loss = 0.083\n",
      "Epoch 212 Batch    0/17   train_loss = 0.083\n",
      "Epoch 214 Batch    0/17   train_loss = 0.082\n",
      "Epoch 216 Batch    0/17   train_loss = 0.082\n",
      "Epoch 218 Batch    0/17   train_loss = 0.082\n",
      "Epoch 220 Batch    0/17   train_loss = 0.082\n",
      "Epoch 222 Batch    0/17   train_loss = 0.082\n",
      "Epoch 224 Batch    0/17   train_loss = 0.082\n",
      "Epoch 226 Batch    0/17   train_loss = 0.082\n",
      "Epoch 228 Batch    0/17   train_loss = 0.082\n",
      "Epoch 230 Batch    0/17   train_loss = 0.082\n",
      "Epoch 232 Batch    0/17   train_loss = 0.082\n",
      "Epoch 234 Batch    0/17   train_loss = 0.082\n",
      "Epoch 236 Batch    0/17   train_loss = 0.081\n",
      "Epoch 238 Batch    0/17   train_loss = 0.081\n",
      "Epoch 240 Batch    0/17   train_loss = 0.081\n",
      "Epoch 242 Batch    0/17   train_loss = 0.081\n",
      "Epoch 244 Batch    0/17   train_loss = 0.081\n",
      "Epoch 246 Batch    0/17   train_loss = 0.081\n",
      "Epoch 248 Batch    0/17   train_loss = 0.081\n",
      "Epoch 250 Batch    0/17   train_loss = 0.081\n",
      "Epoch 252 Batch    0/17   train_loss = 0.081\n",
      "Epoch 254 Batch    0/17   train_loss = 0.081\n",
      "Epoch 256 Batch    0/17   train_loss = 0.081\n",
      "Epoch 258 Batch    0/17   train_loss = 0.081\n",
      "Epoch 260 Batch    0/17   train_loss = 0.081\n",
      "Epoch 262 Batch    0/17   train_loss = 0.081\n",
      "Epoch 264 Batch    0/17   train_loss = 0.081\n",
      "Epoch 266 Batch    0/17   train_loss = 0.081\n",
      "Epoch 268 Batch    0/17   train_loss = 0.081\n",
      "Epoch 270 Batch    0/17   train_loss = 0.081\n",
      "Epoch 272 Batch    0/17   train_loss = 0.080\n",
      "Epoch 274 Batch    0/17   train_loss = 0.080\n",
      "Epoch 276 Batch    0/17   train_loss = 0.080\n",
      "Epoch 278 Batch    0/17   train_loss = 0.080\n",
      "Epoch 280 Batch    0/17   train_loss = 0.080\n",
      "Epoch 282 Batch    0/17   train_loss = 0.080\n",
      "Epoch 284 Batch    0/17   train_loss = 0.080\n",
      "Epoch 286 Batch    0/17   train_loss = 0.080\n",
      "Epoch 288 Batch    0/17   train_loss = 0.080\n",
      "Epoch 290 Batch    0/17   train_loss = 0.080\n",
      "Epoch 292 Batch    0/17   train_loss = 0.080\n",
      "Epoch 294 Batch    0/17   train_loss = 0.080\n",
      "Epoch 296 Batch    0/17   train_loss = 0.080\n",
      "Epoch 298 Batch    0/17   train_loss = 0.080\n",
      "Model Trained and Saved\n"
     ]
    }
   ],
   "source": [
    "\"\"\"\n",
    "DON'T MODIFY ANYTHING IN THIS CELL\n",
    "\"\"\"\n",
    "batches = get_batches(int_text, batch_size, seq_length)\n",
    "\n",
    "with tf.Session(graph=train_graph) as sess:\n",
    "    sess.run(tf.global_variables_initializer())\n",
    "\n",
    "    for epoch_i in range(num_epochs):\n",
    "        state = sess.run(initial_state, {input_text: batches[0][0]})\n",
    "\n",
    "        for batch_i, (x, y) in enumerate(batches):\n",
    "            feed = {\n",
    "                input_text: x,\n",
    "                targets: y,\n",
    "                initial_state: state,\n",
    "                lr: learning_rate}\n",
    "            train_loss, state, _ = sess.run([cost, final_state, train_op], feed)\n",
    "\n",
    "            # Show every <show_every_n_batches> batches\n",
    "            if (epoch_i * len(batches) + batch_i) % show_every_n_batches == 0:\n",
    "                print('Epoch {:>3} Batch {:>4}/{}   train_loss = {:.3f}'.format(\n",
    "                    epoch_i,\n",
    "                    batch_i,\n",
    "                    len(batches),\n",
    "                    train_loss))\n",
    "\n",
    "    # Save Model\n",
    "    saver = tf.train.Saver()\n",
    "    saver.save(sess, save_dir)\n",
    "    print('Model Trained and Saved')"
   ]
  },
  {
   "cell_type": "markdown",
   "metadata": {},
   "source": [
    "## Save Parameters\n",
    "Save `seq_length` and `save_dir` for generating a new TV script."
   ]
  },
  {
   "cell_type": "code",
   "execution_count": 17,
   "metadata": {},
   "outputs": [],
   "source": [
    "\"\"\"\n",
    "DON'T MODIFY ANYTHING IN THIS CELL\n",
    "\"\"\"\n",
    "# Save parameters for checkpoint\n",
    "helper.save_params((seq_length, save_dir))"
   ]
  },
  {
   "cell_type": "markdown",
   "metadata": {},
   "source": [
    "# Checkpoint"
   ]
  },
  {
   "cell_type": "code",
   "execution_count": 18,
   "metadata": {},
   "outputs": [],
   "source": [
    "\"\"\"\n",
    "DON'T MODIFY ANYTHING IN THIS CELL\n",
    "\"\"\"\n",
    "import tensorflow as tf\n",
    "import numpy as np\n",
    "import helper\n",
    "import problem_unittests as tests\n",
    "\n",
    "_, vocab_to_int, int_to_vocab, token_dict = helper.load_preprocess()\n",
    "seq_length, load_dir = helper.load_params()"
   ]
  },
  {
   "cell_type": "markdown",
   "metadata": {},
   "source": [
    "## Implement Generate Functions\n",
    "### Get Tensors\n",
    "Get tensors from `loaded_graph` using the function [`get_tensor_by_name()`](https://www.tensorflow.org/api_docs/python/tf/Graph#get_tensor_by_name).  Get the tensors using the following names:\n",
    "- \"input:0\"\n",
    "- \"initial_state:0\"\n",
    "- \"final_state:0\"\n",
    "- \"probs:0\"\n",
    "\n",
    "Return the tensors in the following tuple `(InputTensor, InitialStateTensor, FinalStateTensor, ProbsTensor)` "
   ]
  },
  {
   "cell_type": "code",
   "execution_count": 19,
   "metadata": {},
   "outputs": [
    {
     "name": "stdout",
     "output_type": "stream",
     "text": [
      "Tests Passed\n"
     ]
    }
   ],
   "source": [
    "def get_tensors(loaded_graph):\n",
    "    \"\"\"\n",
    "    Get input, initial state, final state, and probabilities tensor from <loaded_graph>\n",
    "    :param loaded_graph: TensorFlow graph loaded from file\n",
    "    :return: Tuple (InputTensor, InitialStateTensor, FinalStateTensor, ProbsTensor)\n",
    "    \"\"\"\n",
    "    \n",
    "    input_tensor = loaded_graph.get_tensor_by_name('input:0')\n",
    "    init_state_tensor = loaded_graph.get_tensor_by_name('initial_state:0')\n",
    "    final_state_tensor = loaded_graph.get_tensor_by_name('final_state:0')\n",
    "    probs_tensor = loaded_graph.get_tensor_by_name('probs:0')\n",
    "    \n",
    "    return input_tensor, init_state_tensor, final_state_tensor, probs_tensor\n",
    "\n",
    "\n",
    "\"\"\"\n",
    "DON'T MODIFY ANYTHING IN THIS CELL THAT IS BELOW THIS LINE\n",
    "\"\"\"\n",
    "tests.test_get_tensors(get_tensors)"
   ]
  },
  {
   "cell_type": "markdown",
   "metadata": {},
   "source": [
    "### Choose Word\n",
    "Implement the `pick_word()` function to select the next word using `probabilities`."
   ]
  },
  {
   "cell_type": "code",
   "execution_count": 20,
   "metadata": {},
   "outputs": [
    {
     "name": "stdout",
     "output_type": "stream",
     "text": [
      "Tests Passed\n"
     ]
    }
   ],
   "source": [
    "def pick_word(probabilities, int_to_vocab):\n",
    "    \"\"\"\n",
    "    Pick the next word in the generated text\n",
    "    :param probabilities: Probabilites of the next word\n",
    "    :param int_to_vocab: Dictionary of word ids as the keys and words as the values\n",
    "    :return: String of the predicted word\n",
    "    \"\"\"\n",
    "    \n",
    "    # Flatten the probabilites, to remove unwanted dimension if present\n",
    "    probs = probabilities.flatten()\n",
    "    \n",
    "    # Let numpy pick a index of a word at random, taking the provided probabilies into account\n",
    "    idx_word = np.random.choice(list(int_to_vocab), p = probs)\n",
    "    \n",
    "    return int_to_vocab[idx_word]\n",
    "\n",
    "\n",
    "\"\"\"\n",
    "DON'T MODIFY ANYTHING IN THIS CELL THAT IS BELOW THIS LINE\n",
    "\"\"\"\n",
    "tests.test_pick_word(pick_word)"
   ]
  },
  {
   "cell_type": "markdown",
   "metadata": {},
   "source": [
    "## Generate TV Script\n",
    "This will generate the TV script for you.  Set `gen_length` to the length of TV script you want to generate."
   ]
  },
  {
   "cell_type": "code",
   "execution_count": 21,
   "metadata": {
    "scrolled": false
   },
   "outputs": [
    {
     "name": "stdout",
     "output_type": "stream",
     "text": [
      "INFO:tensorflow:Restoring parameters from ./save\n",
      "moe_szyslak:(vulnerable) hello?\n",
      "bart_simpson: hi, i'm looking for a mister ron-- first name moe.\n",
      "moe_szyslak: moe-ron?(realizing) moron! it's not like this?(stupidly) lemme be so fast.\n",
      "\n",
      "\n",
      "homer_simpson:(reading)\" hello to hate or here.\n",
      "chief_wiggum:(sing) sad...\n",
      "moe_szyslak: what like it, let me go billboard fifteen? my name is loud here.(warmly) moe, my little tipsy.\n",
      "homer_simpson: see, i got this, moe?\n",
      "moe_szyslak: what are you could be a chance where we all am i love--\n",
      "homer_simpson: i don't get a shot of liberty's fat_in_the_hat: us all the guy are\" good. but then he could gamble with my daughter's pick the kids, too as to buy you a new glass?\n",
      "homer_simpson: yeah, he seems my were is for his wire.\n",
      "homer_simpson: you heartily seen or the time, homer. you got a scotch and bret.\" un-sults i remember, 'til gin.\n",
      "homer_simpson:(cheering up) oh, god, how about you are one of the whole kids might ever like you\" old rummy?\n",
      "homer_simpson: hey, moe, no!\n",
      "moe_szyslak: i don't can't even afford to tell me. and some thing i--.\n",
      "carl_carlson: well, gee, you're like a mistake what, good way. duff won't let me kick me into a drink.\n",
      "\n",
      "\n",
      "carl_carlson: we gotta join this awful party?\n",
      "lenny_leonard: i think i don't think the last day of us you.(sings) although i go to a gay bucks?\n",
      "\n",
      "\n",
      "carl_carlson:(looking at homer, then whaddaya seen) what the hell, what might the most dangerous, or they get it.\n",
      "moe_szyslak: get your eyeball or moe.\n",
      "homer_simpson:(to moe, same tune) whoa...\n",
      "homer_simpson: what are good for me?\n",
      "barney_gumble: how long is it is a person who gets away.\n",
      "moe_szyslak: a little good, huh?!(see) no, they don't you get a punch, i challenge a day to get buy me the nigerian prince that took my car, right!\n",
      "moe_szyslak:(embarrassed) yeah, that's what i feel.(sobs)\n",
      "\n",
      "\n",
      "homer_simpson: moe, have to be forever. but that's doin' this again.\n",
      "carl_carlson: hey, with the money, but you won't get up here.\n",
      "homer_simpson:(guiltily, pants was no girl says outside!\n",
      "barney_gumble: yeah. listen, why are you so enough about our wienerschnitzel!\n",
      "\n",
      "\n",
      "patrons: we're carl_carlson: homer, where make here for the\" flaming moe\" is an ironed!\n",
      "lenny_leonard: what good for me!\n",
      "moe_szyslak: yeah, the little girl who can do i want you in the place.\n",
      "moe_szyslak: homer, i really not too like me to get something now an orphan dilemma?\n",
      "homer_simpson: i got the professional fight.\n",
      "kent_brockman:(angry) you know, this might salad call you a beer.\n",
      "moe_szyslak:(uneasy) oh, it's you, you've got a freak.\n",
      "moe_szyslak: i got the love\n"
     ]
    }
   ],
   "source": [
    "gen_length = 600\n",
    "# homer_simpson, moe_szyslak, or Barney_Gumble\n",
    "prime_word = 'moe_szyslak'\n",
    "\n",
    "\"\"\"\n",
    "DON'T MODIFY ANYTHING IN THIS CELL THAT IS BELOW THIS LINE\n",
    "\"\"\"\n",
    "loaded_graph = tf.Graph()\n",
    "with tf.Session(graph=loaded_graph) as sess:\n",
    "    # Load saved model\n",
    "    loader = tf.train.import_meta_graph(load_dir + '.meta')\n",
    "    loader.restore(sess, load_dir)\n",
    "\n",
    "    # Get Tensors from loaded model\n",
    "    input_text, initial_state, final_state, probs = get_tensors(loaded_graph)\n",
    "\n",
    "    # Sentences generation setup\n",
    "    gen_sentences = [prime_word + ':']\n",
    "    prev_state = sess.run(initial_state, {input_text: np.array([[1]])})\n",
    "\n",
    "    # Generate sentences\n",
    "    for n in range(gen_length):\n",
    "        # Dynamic Input\n",
    "        dyn_input = [[vocab_to_int[word] for word in gen_sentences[-seq_length:]]]\n",
    "        dyn_seq_length = len(dyn_input[0])\n",
    "\n",
    "        # Get Prediction\n",
    "        probabilities, prev_state = sess.run(\n",
    "            [probs, final_state],\n",
    "            {input_text: dyn_input, initial_state: prev_state})\n",
    "        pred_word = pick_word(probabilities[0][dyn_seq_length-1], int_to_vocab)\n",
    "\n",
    "        gen_sentences.append(pred_word)\n",
    "    \n",
    "    # Remove tokens\n",
    "    tv_script = ' '.join(gen_sentences)\n",
    "    for key, token in token_dict.items():\n",
    "        ending = ' ' if key in ['\\n', '(', '\"'] else ''\n",
    "        tv_script = tv_script.replace(' ' + token.lower(), key)\n",
    "    tv_script = tv_script.replace('\\n ', '\\n')\n",
    "    tv_script = tv_script.replace('( ', '(')\n",
    "        \n",
    "    print(tv_script)"
   ]
  },
  {
   "cell_type": "markdown",
   "metadata": {},
   "source": [
    ">###### NOTE TO REVIEWER: ######\n",
    "\n",
    ">To get a correct prediction for this TensorFlow version, a slight modification was needed to the probabilities vector passed to the `pick_word()` function. Newer version seem to have added a dimension of size one to the probabilities vector.\n",
    "\n",
    ">Changelog:  \n",
    ">`Generate TV Script` now supports Tensorflow >= v1.4.0 \n",
    ">###### OLD CODE ######\n",
    ">```python\n",
    ">pred_word = pick_word(probabilities[dyn_seq_length-1], int_to_vocab)\n",
    ">```  \n",
    ">###### NEW CODE ######\n",
    ">```python\n",
    ">pred_word = pick_word(probabilities[0][dyn_seq_length-1], int_to_vocab)\n",
    ">```"
   ]
  },
  {
   "cell_type": "markdown",
   "metadata": {},
   "source": [
    "# The TV Script is Nonsensical\n",
    "It's ok if the TV script doesn't make any sense.  We trained on less than a megabyte of text.  In order to get good results, you'll have to use a smaller vocabulary or get more data.  Luckly there's more data!  As we mentioned in the begging of this project, this is a subset of [another dataset](https://www.kaggle.com/wcukierski/the-simpsons-by-the-data).  We didn't have you train on all the data, because that would take too long.  However, you are free to train your neural network on all the data.  After you complete the project, of course.\n",
    "# Submitting This Project\n",
    "When submitting this project, make sure to run all the cells before saving the notebook. Save the notebook file as \"dlnd_tv_script_generation.ipynb\" and save it as a HTML file under \"File\" -> \"Download as\". Include the \"helper.py\" and \"problem_unittests.py\" files in your submission."
   ]
  }
 ],
 "metadata": {
  "kernelspec": {
   "display_name": "Python 3",
   "language": "python",
   "name": "python3"
  },
  "language_info": {
   "codemirror_mode": {
    "name": "ipython",
    "version": 3
   },
   "file_extension": ".py",
   "mimetype": "text/x-python",
   "name": "python",
   "nbconvert_exporter": "python",
   "pygments_lexer": "ipython3",
   "version": "3.6.4"
  },
  "widgets": {
   "state": {},
   "version": "1.1.2"
  }
 },
 "nbformat": 4,
 "nbformat_minor": 1
}
